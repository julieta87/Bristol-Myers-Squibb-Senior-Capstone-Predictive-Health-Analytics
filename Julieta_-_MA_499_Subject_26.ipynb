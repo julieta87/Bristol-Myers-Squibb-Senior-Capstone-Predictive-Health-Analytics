{
 "cells": [
  {
   "cell_type": "code",
   "execution_count": 58,
   "metadata": {},
   "outputs": [],
   "source": [
    "# Import the necessary packages\n",
    "import pandas as pd\n",
    "import matplotlib.pyplot as plt\n",
    "import seaborn as sns\n",
    "from datetime import datetime\n",
    "from sklearn.ensemble import RandomForestRegressor\n",
    "from sklearn.model_selection import train_test_split\n",
    "from sklearn.impute import SimpleImputer\n",
    "from sklearn.preprocessing import StandardScaler\n",
    "from sklearn.pipeline import Pipeline\n",
    "from sklearn.tree import DecisionTreeClassifier\n",
    "from sklearn.metrics import accuracy_score\n",
    "from sklearn.experimental import enable_hist_gradient_boosting  # noqa\n",
    "from sklearn.ensemble import HistGradientBoostingClassifier"
   ]
  },
  {
   "cell_type": "code",
   "execution_count": 59,
   "metadata": {},
   "outputs": [],
   "source": [
    "# Read the datasets\n",
    "subject_data = pd.read_csv(\"subjectID_26.csv\")\n",
    "fatigue_data = pd.read_csv('fatiguePROs_subject_26.csv')"
   ]
  },
  {
   "cell_type": "code",
   "execution_count": 60,
   "metadata": {},
   "outputs": [],
   "source": [
    "# Function to parse the timestamps of the wearable dataset in the proper date format\n",
    "def parse_wearable_timestamp(ts):\n",
    "    return datetime.strptime(ts, '%d.%m.%y %H:%M')"
   ]
  },
  {
   "cell_type": "code",
   "execution_count": 61,
   "metadata": {},
   "outputs": [],
   "source": [
    "# Function to parse the timestamps of the fatigue dataset in the proper date format\n",
    "def parse_fatigue_timestamp_adjusted(ts):\n",
    "    try:\n",
    "        return datetime.strptime(ts, '%d.%m.%y %H:%M')\n",
    "    except ValueError:\n",
    "        return datetime.strptime(ts, '%d.%m.%y')"
   ]
  },
  {
   "cell_type": "code",
   "execution_count": 62,
   "metadata": {},
   "outputs": [],
   "source": [
    "# Apply the parsing to the datasets\n",
    "subject_data['Timestamp'] = subject_data['Timestamp'].apply(parse_wearable_timestamp)\n",
    "fatigue_data['Days'] = fatigue_data['Days'].apply(parse_fatigue_timestamp_adjusted)"
   ]
  },
  {
   "cell_type": "code",
   "execution_count": 63,
   "metadata": {},
   "outputs": [],
   "source": [
    "# Create a date column for merging\n",
    "subject_data['Date'] = subject_data['Timestamp'].dt.date\n",
    "fatigue_data['Date'] = fatigue_data['Days'].dt.date"
   ]
  },
  {
   "cell_type": "code",
   "execution_count": 64,
   "metadata": {},
   "outputs": [],
   "source": [
    "# Summarize each column by the mean\n",
    "wearable_daily_summary = subject_data.groupby('Date').agg({\n",
    "    'ActivityCounts': 'median',\n",
    "    'Barometer': 'median',\n",
    "    'BloodPerfusion': 'median',\n",
    "    'BloodPulseWave': 'median',\n",
    "    'EnergyExpenditure': 'median',\n",
    "    'GalvanicSkinResponse': 'median',\n",
    "    'HR': 'median',\n",
    "    'HRV': 'median',\n",
    "    'RESP': 'median',\n",
    "    'Steps': 'sum',  # Assuming sum is more appropriate for steps\n",
    "    'SkinTemperature': 'median'\n",
    "}).reset_index()"
   ]
  },
  {
   "cell_type": "code",
   "execution_count": 65,
   "metadata": {},
   "outputs": [],
   "source": [
    "# Group the data by the mean for Question 1\n",
    "# Describe fatigue on a scale of 1 to 10, where 1 means you don’t feel tired at all and 10 means the worst tiredness you can imagine\n",
    "fatigue_daily_summary = fatigue_data.groupby('Date').agg({\n",
    "    'Ans for Q1': 'mean'\n",
    "}).reset_index()"
   ]
  },
  {
   "cell_type": "code",
   "execution_count": 66,
   "metadata": {},
   "outputs": [],
   "source": [
    "# Merge the summaries on Date\n",
    "daily_combined_summary = pd.merge(wearable_daily_summary, fatigue_daily_summary, on='Date', how='outer')"
   ]
  },
  {
   "cell_type": "code",
   "execution_count": 67,
   "metadata": {},
   "outputs": [],
   "source": [
    "# Prepare the data for modeling\n",
    "data_for_modeling = daily_combined_summary.dropna(subset=['Ans for Q1'])\n",
    "X = data_for_modeling.drop(['Date', 'Ans for Q1'], axis=1)\n",
    "y = data_for_modeling['Ans for Q1']"
   ]
  },
  {
   "cell_type": "code",
   "execution_count": 68,
   "metadata": {},
   "outputs": [],
   "source": [
    "# Split the data into training and testing sets\n",
    "X_train, X_test, y_train, y_test = train_test_split(X, y, test_size=0.2, random_state=42)"
   ]
  },
  {
   "cell_type": "code",
   "execution_count": 69,
   "metadata": {},
   "outputs": [],
   "source": [
    "# Create a pipeline for imputation, scaling, and modeling\n",
    "pipeline = Pipeline([\n",
    "    ('imputer', SimpleImputer(strategy='mean')),\n",
    "    ('scaler', StandardScaler()),\n",
    "    ('model', RandomForestRegressor(n_estimators=100, random_state=42))\n",
    "])"
   ]
  },
  {
   "cell_type": "code",
   "execution_count": 70,
   "metadata": {},
   "outputs": [
    {
     "data": {
      "text/html": [
       "<style>#sk-container-id-2 {color: black;background-color: white;}#sk-container-id-2 pre{padding: 0;}#sk-container-id-2 div.sk-toggleable {background-color: white;}#sk-container-id-2 label.sk-toggleable__label {cursor: pointer;display: block;width: 100%;margin-bottom: 0;padding: 0.3em;box-sizing: border-box;text-align: center;}#sk-container-id-2 label.sk-toggleable__label-arrow:before {content: \"▸\";float: left;margin-right: 0.25em;color: #696969;}#sk-container-id-2 label.sk-toggleable__label-arrow:hover:before {color: black;}#sk-container-id-2 div.sk-estimator:hover label.sk-toggleable__label-arrow:before {color: black;}#sk-container-id-2 div.sk-toggleable__content {max-height: 0;max-width: 0;overflow: hidden;text-align: left;background-color: #f0f8ff;}#sk-container-id-2 div.sk-toggleable__content pre {margin: 0.2em;color: black;border-radius: 0.25em;background-color: #f0f8ff;}#sk-container-id-2 input.sk-toggleable__control:checked~div.sk-toggleable__content {max-height: 200px;max-width: 100%;overflow: auto;}#sk-container-id-2 input.sk-toggleable__control:checked~label.sk-toggleable__label-arrow:before {content: \"▾\";}#sk-container-id-2 div.sk-estimator input.sk-toggleable__control:checked~label.sk-toggleable__label {background-color: #d4ebff;}#sk-container-id-2 div.sk-label input.sk-toggleable__control:checked~label.sk-toggleable__label {background-color: #d4ebff;}#sk-container-id-2 input.sk-hidden--visually {border: 0;clip: rect(1px 1px 1px 1px);clip: rect(1px, 1px, 1px, 1px);height: 1px;margin: -1px;overflow: hidden;padding: 0;position: absolute;width: 1px;}#sk-container-id-2 div.sk-estimator {font-family: monospace;background-color: #f0f8ff;border: 1px dotted black;border-radius: 0.25em;box-sizing: border-box;margin-bottom: 0.5em;}#sk-container-id-2 div.sk-estimator:hover {background-color: #d4ebff;}#sk-container-id-2 div.sk-parallel-item::after {content: \"\";width: 100%;border-bottom: 1px solid gray;flex-grow: 1;}#sk-container-id-2 div.sk-label:hover label.sk-toggleable__label {background-color: #d4ebff;}#sk-container-id-2 div.sk-serial::before {content: \"\";position: absolute;border-left: 1px solid gray;box-sizing: border-box;top: 0;bottom: 0;left: 50%;z-index: 0;}#sk-container-id-2 div.sk-serial {display: flex;flex-direction: column;align-items: center;background-color: white;padding-right: 0.2em;padding-left: 0.2em;position: relative;}#sk-container-id-2 div.sk-item {position: relative;z-index: 1;}#sk-container-id-2 div.sk-parallel {display: flex;align-items: stretch;justify-content: center;background-color: white;position: relative;}#sk-container-id-2 div.sk-item::before, #sk-container-id-2 div.sk-parallel-item::before {content: \"\";position: absolute;border-left: 1px solid gray;box-sizing: border-box;top: 0;bottom: 0;left: 50%;z-index: -1;}#sk-container-id-2 div.sk-parallel-item {display: flex;flex-direction: column;z-index: 1;position: relative;background-color: white;}#sk-container-id-2 div.sk-parallel-item:first-child::after {align-self: flex-end;width: 50%;}#sk-container-id-2 div.sk-parallel-item:last-child::after {align-self: flex-start;width: 50%;}#sk-container-id-2 div.sk-parallel-item:only-child::after {width: 0;}#sk-container-id-2 div.sk-dashed-wrapped {border: 1px dashed gray;margin: 0 0.4em 0.5em 0.4em;box-sizing: border-box;padding-bottom: 0.4em;background-color: white;}#sk-container-id-2 div.sk-label label {font-family: monospace;font-weight: bold;display: inline-block;line-height: 1.2em;}#sk-container-id-2 div.sk-label-container {text-align: center;}#sk-container-id-2 div.sk-container {/* jupyter's `normalize.less` sets `[hidden] { display: none; }` but bootstrap.min.css set `[hidden] { display: none !important; }` so we also need the `!important` here to be able to override the default hidden behavior on the sphinx rendered scikit-learn.org. See: https://github.com/scikit-learn/scikit-learn/issues/21755 */display: inline-block !important;position: relative;}#sk-container-id-2 div.sk-text-repr-fallback {display: none;}</style><div id=\"sk-container-id-2\" class=\"sk-top-container\"><div class=\"sk-text-repr-fallback\"><pre>Pipeline(steps=[(&#x27;imputer&#x27;, SimpleImputer()), (&#x27;scaler&#x27;, StandardScaler()),\n",
       "                (&#x27;model&#x27;, RandomForestRegressor(random_state=42))])</pre><b>In a Jupyter environment, please rerun this cell to show the HTML representation or trust the notebook. <br />On GitHub, the HTML representation is unable to render, please try loading this page with nbviewer.org.</b></div><div class=\"sk-container\" hidden><div class=\"sk-item sk-dashed-wrapped\"><div class=\"sk-label-container\"><div class=\"sk-label sk-toggleable\"><input class=\"sk-toggleable__control sk-hidden--visually\" id=\"sk-estimator-id-5\" type=\"checkbox\" ><label for=\"sk-estimator-id-5\" class=\"sk-toggleable__label sk-toggleable__label-arrow\">Pipeline</label><div class=\"sk-toggleable__content\"><pre>Pipeline(steps=[(&#x27;imputer&#x27;, SimpleImputer()), (&#x27;scaler&#x27;, StandardScaler()),\n",
       "                (&#x27;model&#x27;, RandomForestRegressor(random_state=42))])</pre></div></div></div><div class=\"sk-serial\"><div class=\"sk-item\"><div class=\"sk-estimator sk-toggleable\"><input class=\"sk-toggleable__control sk-hidden--visually\" id=\"sk-estimator-id-6\" type=\"checkbox\" ><label for=\"sk-estimator-id-6\" class=\"sk-toggleable__label sk-toggleable__label-arrow\">SimpleImputer</label><div class=\"sk-toggleable__content\"><pre>SimpleImputer()</pre></div></div></div><div class=\"sk-item\"><div class=\"sk-estimator sk-toggleable\"><input class=\"sk-toggleable__control sk-hidden--visually\" id=\"sk-estimator-id-7\" type=\"checkbox\" ><label for=\"sk-estimator-id-7\" class=\"sk-toggleable__label sk-toggleable__label-arrow\">StandardScaler</label><div class=\"sk-toggleable__content\"><pre>StandardScaler()</pre></div></div></div><div class=\"sk-item\"><div class=\"sk-estimator sk-toggleable\"><input class=\"sk-toggleable__control sk-hidden--visually\" id=\"sk-estimator-id-8\" type=\"checkbox\" ><label for=\"sk-estimator-id-8\" class=\"sk-toggleable__label sk-toggleable__label-arrow\">RandomForestRegressor</label><div class=\"sk-toggleable__content\"><pre>RandomForestRegressor(random_state=42)</pre></div></div></div></div></div></div></div>"
      ],
      "text/plain": [
       "Pipeline(steps=[('imputer', SimpleImputer()), ('scaler', StandardScaler()),\n",
       "                ('model', RandomForestRegressor(random_state=42))])"
      ]
     },
     "execution_count": 70,
     "metadata": {},
     "output_type": "execute_result"
    }
   ],
   "source": [
    "# Fit the model\n",
    "pipeline.fit(X_train, y_train)"
   ]
  },
  {
   "cell_type": "code",
   "execution_count": 71,
   "metadata": {},
   "outputs": [],
   "source": [
    "# Extract and print feature importance\n",
    "feature_importances = pipeline.named_steps['model'].feature_importances_\n",
    "feature_importance_dict = dict(zip(X.columns, feature_importances))\n",
    "sorted_feature_importance = sorted(feature_importance_dict.items(), key=lambda item: item[1], reverse=True)"
   ]
  },
  {
   "cell_type": "code",
   "execution_count": 72,
   "metadata": {},
   "outputs": [
    {
     "name": "stdout",
     "output_type": "stream",
     "text": [
      "GalvanicSkinResponse: 0.18\n",
      "BloodPerfusion: 0.14\n",
      "SkinTemperature: 0.13\n",
      "Steps: 0.12\n",
      "BloodPulseWave: 0.12\n",
      "Barometer: 0.08\n",
      "HR: 0.07\n",
      "RESP: 0.05\n",
      "HRV: 0.05\n",
      "EnergyExpenditure: 0.04\n",
      "ActivityCounts: 0.02\n"
     ]
    }
   ],
   "source": [
    "# Displaying the sorted feature importance\n",
    "for feature, importance in sorted_feature_importance:\n",
    "    print(f\"{feature}: {importance:.2f}\")"
   ]
  },
  {
   "cell_type": "markdown",
   "metadata": {},
   "source": [
    "The analysis from the Random Forest Regression model suggests that the most influential factors in determining quality of life include physiological parameters like Galvanic Skin Response and Blood Perfusion, alongside Skin Temperature. Metrics related to physical exertion, such as Steps and Blood Pulse Wave, also play a significant role, in addition to environmental measures like Barometer readings. Notably, traditional heart function indicators (HR and HRV) and aspects of physical activity (Energy Expenditure) contribute to a lesser extent. This implies a relationship between physiological responses, physical activity, and environmental conditions in shaping overall well-being. Furthermore, it underscores the value of data from wearable devices in shedding light on indicators of health-related quality of life."
   ]
  },
  {
   "cell_type": "code",
   "execution_count": 73,
   "metadata": {},
   "outputs": [],
   "source": [
    "features = ['HR', 'Steps', 'BloodPulseWave', 'HRV', 'EnergyExpenditure']"
   ]
  },
  {
   "cell_type": "code",
   "execution_count": 74,
   "metadata": {},
   "outputs": [
    {
     "data": {
      "text/html": [
       "<div>\n",
       "<style scoped>\n",
       "    .dataframe tbody tr th:only-of-type {\n",
       "        vertical-align: middle;\n",
       "    }\n",
       "\n",
       "    .dataframe tbody tr th {\n",
       "        vertical-align: top;\n",
       "    }\n",
       "\n",
       "    .dataframe thead th {\n",
       "        text-align: right;\n",
       "    }\n",
       "</style>\n",
       "<table border=\"1\" class=\"dataframe\">\n",
       "  <thead>\n",
       "    <tr style=\"text-align: right;\">\n",
       "      <th></th>\n",
       "      <th>SubjectID</th>\n",
       "      <th>Days</th>\n",
       "      <th>Timezone</th>\n",
       "      <th>Question</th>\n",
       "      <th>Ans for Q2-Q4</th>\n",
       "      <th>Date</th>\n",
       "    </tr>\n",
       "  </thead>\n",
       "  <tbody>\n",
       "    <tr>\n",
       "      <th>1</th>\n",
       "      <td>26</td>\n",
       "      <td>2018-01-26 21:00:00</td>\n",
       "      <td>CET</td>\n",
       "      <td>Are you feeling better, worse or the same as y...</td>\n",
       "      <td>Worse</td>\n",
       "      <td>2018-01-26</td>\n",
       "    </tr>\n",
       "    <tr>\n",
       "      <th>2</th>\n",
       "      <td>26</td>\n",
       "      <td>2018-01-26 21:00:00</td>\n",
       "      <td>CET</td>\n",
       "      <td>Physically, today how often did you feel exhau...</td>\n",
       "      <td>Regularly</td>\n",
       "      <td>2018-01-26</td>\n",
       "    </tr>\n",
       "    <tr>\n",
       "      <th>3</th>\n",
       "      <td>26</td>\n",
       "      <td>2018-01-26 21:00:00</td>\n",
       "      <td>CET</td>\n",
       "      <td>Mentally, today how often did you feel exhausted?</td>\n",
       "      <td>Often</td>\n",
       "      <td>2018-01-26</td>\n",
       "    </tr>\n",
       "    <tr>\n",
       "      <th>5</th>\n",
       "      <td>26</td>\n",
       "      <td>2018-01-27 21:00:00</td>\n",
       "      <td>CET</td>\n",
       "      <td>Are you feeling better, worse or the same as y...</td>\n",
       "      <td>Better</td>\n",
       "      <td>2018-01-27</td>\n",
       "    </tr>\n",
       "    <tr>\n",
       "      <th>6</th>\n",
       "      <td>26</td>\n",
       "      <td>2018-01-27 21:00:00</td>\n",
       "      <td>CET</td>\n",
       "      <td>Physically, today how often did you feel exhau...</td>\n",
       "      <td>Sometimes</td>\n",
       "      <td>2018-01-27</td>\n",
       "    </tr>\n",
       "    <tr>\n",
       "      <th>...</th>\n",
       "      <td>...</td>\n",
       "      <td>...</td>\n",
       "      <td>...</td>\n",
       "      <td>...</td>\n",
       "      <td>...</td>\n",
       "      <td>...</td>\n",
       "    </tr>\n",
       "    <tr>\n",
       "      <th>222</th>\n",
       "      <td>26</td>\n",
       "      <td>2018-08-14 00:21:00</td>\n",
       "      <td>CEST</td>\n",
       "      <td>Physically, today how often did you feel exhau...</td>\n",
       "      <td>Sometimes</td>\n",
       "      <td>2018-08-14</td>\n",
       "    </tr>\n",
       "    <tr>\n",
       "      <th>223</th>\n",
       "      <td>26</td>\n",
       "      <td>2018-08-14 00:21:00</td>\n",
       "      <td>CEST</td>\n",
       "      <td>Mentally, today how often did you feel exhausted?</td>\n",
       "      <td>Regularly</td>\n",
       "      <td>2018-08-14</td>\n",
       "    </tr>\n",
       "    <tr>\n",
       "      <th>225</th>\n",
       "      <td>26</td>\n",
       "      <td>2018-08-15 00:40:00</td>\n",
       "      <td>CEST</td>\n",
       "      <td>Are you feeling better, worse or the same as y...</td>\n",
       "      <td>Worse</td>\n",
       "      <td>2018-08-15</td>\n",
       "    </tr>\n",
       "    <tr>\n",
       "      <th>226</th>\n",
       "      <td>26</td>\n",
       "      <td>2018-08-15 00:40:00</td>\n",
       "      <td>CEST</td>\n",
       "      <td>Physically, today how often did you feel exhau...</td>\n",
       "      <td>Often</td>\n",
       "      <td>2018-08-15</td>\n",
       "    </tr>\n",
       "    <tr>\n",
       "      <th>227</th>\n",
       "      <td>26</td>\n",
       "      <td>2018-08-15 00:40:00</td>\n",
       "      <td>CEST</td>\n",
       "      <td>Mentally, today how often did you feel exhausted?</td>\n",
       "      <td>Sometimes</td>\n",
       "      <td>2018-08-15</td>\n",
       "    </tr>\n",
       "  </tbody>\n",
       "</table>\n",
       "<p>171 rows × 6 columns</p>\n",
       "</div>"
      ],
      "text/plain": [
       "     SubjectID                Days Timezone  \\\n",
       "1           26 2018-01-26 21:00:00      CET   \n",
       "2           26 2018-01-26 21:00:00      CET   \n",
       "3           26 2018-01-26 21:00:00      CET   \n",
       "5           26 2018-01-27 21:00:00      CET   \n",
       "6           26 2018-01-27 21:00:00      CET   \n",
       "..         ...                 ...      ...   \n",
       "222         26 2018-08-14 00:21:00     CEST   \n",
       "223         26 2018-08-14 00:21:00     CEST   \n",
       "225         26 2018-08-15 00:40:00     CEST   \n",
       "226         26 2018-08-15 00:40:00     CEST   \n",
       "227         26 2018-08-15 00:40:00     CEST   \n",
       "\n",
       "                                              Question Ans for Q2-Q4  \\\n",
       "1    Are you feeling better, worse or the same as y...         Worse   \n",
       "2    Physically, today how often did you feel exhau...     Regularly   \n",
       "3    Mentally, today how often did you feel exhausted?         Often   \n",
       "5    Are you feeling better, worse or the same as y...        Better   \n",
       "6    Physically, today how often did you feel exhau...     Sometimes   \n",
       "..                                                 ...           ...   \n",
       "222  Physically, today how often did you feel exhau...     Sometimes   \n",
       "223  Mentally, today how often did you feel exhausted?     Regularly   \n",
       "225  Are you feeling better, worse or the same as y...         Worse   \n",
       "226  Physically, today how often did you feel exhau...         Often   \n",
       "227  Mentally, today how often did you feel exhausted?     Sometimes   \n",
       "\n",
       "           Date  \n",
       "1    2018-01-26  \n",
       "2    2018-01-26  \n",
       "3    2018-01-26  \n",
       "5    2018-01-27  \n",
       "6    2018-01-27  \n",
       "..          ...  \n",
       "222  2018-08-14  \n",
       "223  2018-08-14  \n",
       "225  2018-08-15  \n",
       "226  2018-08-15  \n",
       "227  2018-08-15  \n",
       "\n",
       "[171 rows x 6 columns]"
      ]
     },
     "execution_count": 74,
     "metadata": {},
     "output_type": "execute_result"
    }
   ],
   "source": [
    "phrase_to_remove = \"Describe fatigue on a scale of 1 to 10, where 1 means you don’t feel tired at all and 10 means the worst tiredness you can imagine\"\n",
    "filtered_fatigue_data = fatigue_data.loc[~fatigue_data['Question'].str.contains(phrase_to_remove, case=False, na=False)]\n",
    "new_fatigue_data = filtered_fatigue_data.drop(\"Ans for Q1\", axis=1)\n",
    "new_fatigue_data"
   ]
  },
  {
   "cell_type": "code",
   "execution_count": 75,
   "metadata": {},
   "outputs": [],
   "source": [
    "finished_fatigue_data = new_fatigue_data.set_index(\"Question\", append=True).swaplevel().loc[new_fatigue_data[\"Question\"].unique()].reset_index(level=0)"
   ]
  },
  {
   "cell_type": "code",
   "execution_count": 76,
   "metadata": {},
   "outputs": [],
   "source": [
    "fatigue_data_q2 = finished_fatigue_data[finished_fatigue_data['Question'] == \"Are you feeling better, worse or the same as yesterday?\"]\n",
    "fatigue_data_q3 = finished_fatigue_data[finished_fatigue_data['Question'] == \"Physically, today how often did you feel exhausted?\"]\n",
    "fatigue_data_q4 = finished_fatigue_data[finished_fatigue_data['Question'] == \"Mentally, today how often did you feel exhausted?\"]\n",
    "\n",
    "fatigue_data_q2 = fatigue_data_q2.reset_index(drop=True)\n",
    "fatigue_data_q3 = fatigue_data_q3.reset_index(drop=True)\n",
    "fatigue_data_q4 = fatigue_data_q4.reset_index(drop=True)"
   ]
  },
  {
   "cell_type": "code",
   "execution_count": 77,
   "metadata": {},
   "outputs": [],
   "source": [
    "# Mappings for encoding\n",
    "encoding_q2 = {'Worse': 0, 'Same': 1, 'Better': 2}\n",
    "encoding_q3 = {'Never': 0, 'Sometimes': 1, 'Regularly': 2, 'Often': 3, 'Always': 4}\n",
    "encoding_q4 = {'Never': 0, 'Sometimes': 1, 'Regularly': 2, 'Often': 3, 'Always': 4}"
   ]
  },
  {
   "cell_type": "code",
   "execution_count": 78,
   "metadata": {},
   "outputs": [],
   "source": [
    "# Apply each encodings to the mapping\n",
    "fatigue_data_q2['Ans_Encoded'] = fatigue_data_q2['Ans for Q2-Q4'].map(encoding_q2)\n",
    "fatigue_data_q3['Ans_Encoded'] = fatigue_data_q3['Ans for Q2-Q4'].map(encoding_q3)\n",
    "fatigue_data_q4['Ans_Encoded'] = fatigue_data_q4['Ans for Q2-Q4'].map(encoding_q4)\n",
    "\n",
    "fatigue_data_q2 = fatigue_data_q2.drop(\"Days\", axis=1)\n",
    "fatigue_data_q3 = fatigue_data_q3.drop(\"Days\", axis=1)\n",
    "fatigue_data_q4 = fatigue_data_q4.drop(\"Days\", axis=1)"
   ]
  },
  {
   "cell_type": "code",
   "execution_count": 79,
   "metadata": {},
   "outputs": [],
   "source": [
    "# Data cleaning to prepare the data for the model\n",
    "fatigue_data_q2_merged = pd.merge(fatigue_data_q2, wearable_daily_summary, on='Date', how='outer')\n",
    "fatigue_data_q3_merged = pd.merge(fatigue_data_q3, wearable_daily_summary, on='Date', how='outer')\n",
    "fatigue_data_q4_merged = pd.merge(fatigue_data_q4, wearable_daily_summary, on='Date', how='outer')\n",
    "\n",
    "fatigue_data_q2_merged = fatigue_data_q2_merged.dropna(subset=['Ans_Encoded'])\n",
    "fatigue_data_q3_merged = fatigue_data_q3_merged.dropna(subset=['Ans_Encoded'])\n",
    "fatigue_data_q4_merged = fatigue_data_q4_merged.dropna(subset=['Ans_Encoded'])"
   ]
  },
  {
   "cell_type": "code",
   "execution_count": 81,
   "metadata": {},
   "outputs": [],
   "source": [
    "# The 'Ans_Encoded' column is the target variable, and the rest are the features\n",
    "X_q2 = fatigue_data_q2_merged[['HR', 'Steps', 'BloodPulseWave', 'HRV', 'EnergyExpenditure']]\n",
    "y_q2 = fatigue_data_q2_merged['Ans_Encoded']\n",
    "\n",
    "X_q3 = fatigue_data_q3_merged[['HR', 'Steps', 'BloodPulseWave', 'HRV', 'EnergyExpenditure']]\n",
    "y_q3 = fatigue_data_q3_merged['Ans_Encoded']\n",
    "\n",
    "X_q4 = fatigue_data_q4_merged[['HR', 'Steps', 'BloodPulseWave', 'HRV', 'EnergyExpenditure']]\n",
    "y_q4 = fatigue_data_q4_merged['Ans_Encoded']"
   ]
  },
  {
   "cell_type": "code",
   "execution_count": 82,
   "metadata": {},
   "outputs": [
    {
     "name": "stdout",
     "output_type": "stream",
     "text": [
      "Accuracy: 0.16666666666666666\n"
     ]
    }
   ],
   "source": [
    "X_train_q2, X_test_q2, y_train_q2, y_test_q2 = train_test_split(X_q2, y_q2, test_size=0.2, random_state=42)\n",
    "\n",
    "# Initialize and train the classifier\n",
    "model = HistGradientBoostingClassifier()\n",
    "\n",
    "# Fit the model\n",
    "model.fit(X_train_q2, y_train_q2)\n",
    "\n",
    "# Make predictions\n",
    "y_pred_q2 = model.predict(X_test_q2)\n",
    "\n",
    "# Evaluate the model\n",
    "accuracy_q2 = accuracy_score(y_test_q2, y_pred_q2)\n",
    "print(f\"Accuracy: {accuracy_q2}\")"
   ]
  },
  {
   "cell_type": "code",
   "execution_count": 83,
   "metadata": {},
   "outputs": [
    {
     "name": "stdout",
     "output_type": "stream",
     "text": [
      "Accuracy: 0.5\n"
     ]
    }
   ],
   "source": [
    "X_train_q3, X_test_q3, y_train_q3, y_test_q3 = train_test_split(X_q3, y_q3, test_size=0.2, random_state=42)\n",
    "\n",
    "# Initialize and train the classifier\n",
    "model = HistGradientBoostingClassifier()\n",
    "\n",
    "# Fit the model\n",
    "model.fit(X_train_q3, y_train_q3)\n",
    "\n",
    "# Make predictions\n",
    "y_pred_q3 = model.predict(X_test_q3)\n",
    "\n",
    "# Evaluate the model\n",
    "accuracy_q3 = accuracy_score(y_test_q3, y_pred_q3)\n",
    "print(f\"Accuracy: {accuracy_q3}\")"
   ]
  },
  {
   "cell_type": "code",
   "execution_count": 84,
   "metadata": {},
   "outputs": [
    {
     "name": "stdout",
     "output_type": "stream",
     "text": [
      "Accuracy: 0.5\n"
     ]
    }
   ],
   "source": [
    "X_train_q4, X_test_q4, y_train_q4, y_test_q4 = train_test_split(X_q4, y_q4, test_size=0.2, random_state=42)\n",
    "\n",
    "# Initialize and train the classifier\n",
    "model = HistGradientBoostingClassifier()\n",
    "\n",
    "# Fit the model\n",
    "model.fit(X_train_q4, y_train_q4)\n",
    "\n",
    "# Make predictions\n",
    "y_pred_q4 = model.predict(X_test_q4)\n",
    "\n",
    "# Evaluate the model\n",
    "accuracy_q4 = accuracy_score(y_test_q4, y_pred_q4)\n",
    "print(f\"Accuracy: {accuracy_q4}\")"
   ]
  },
  {
   "cell_type": "code",
   "execution_count": 85,
   "metadata": {},
   "outputs": [
    {
     "name": "stdout",
     "output_type": "stream",
     "text": [
      "Accuracy with data from Question 3 and Question 4: 0.2608695652173913\n"
     ]
    }
   ],
   "source": [
    "full_fatigue_data = fatigue_data_q2_merged.merge(fatigue_data_q3_merged, on='Date', how='inner', suffixes=('_q2', '_q3'))\n",
    "full_fatigue_data = full_fatigue_data.merge(fatigue_data_q4_merged, on='Date', how='inner', suffixes=('', '_q4'))\n",
    "\n",
    "X_full = full_fatigue_data[['HR', 'Steps', 'BloodPulseWave', 'HRV', 'EnergyExpenditure', 'Ans_Encoded_q3', 'Ans_Encoded']]\n",
    "# 'Ans_Encoded' from Q4 might have to be renamed to avoid collision if not done in the merge step.\n",
    "\n",
    "y_full = full_fatigue_data['Ans_Encoded_q2']  # Target variable from Q2\n",
    "\n",
    "X_train_full, X_test_full, y_train_full, y_test_full = train_test_split(X_full, y_full, test_size=0.2, random_state=42)\n",
    "\n",
    "model_full = HistGradientBoostingClassifier()\n",
    "\n",
    "# Fit the model\n",
    "model_full.fit(X_train_full, y_train_full)\n",
    "\n",
    "# Make predictions\n",
    "y_pred_full = model_full.predict(X_test_full)\n",
    "\n",
    "# Evaluate the model\n",
    "accuracy_full = accuracy_score(y_test_full, y_pred_full)\n",
    "print(f\"Accuracy with data from Question 3 and Question 4: {accuracy_full}\")"
   ]
  },
  {
   "cell_type": "code",
   "execution_count": 86,
   "metadata": {},
   "outputs": [
    {
     "name": "stdout",
     "output_type": "stream",
     "text": [
      "Distribution for Question 2:\n",
      "Worse     22\n",
      "Better    22\n",
      "Same      13\n",
      "Name: Ans for Q2-Q4, dtype: int64\n",
      "\n",
      "As percentages:\n",
      "Worse     38.596491\n",
      "Better    38.596491\n",
      "Same      22.807018\n",
      "Name: Ans for Q2-Q4, dtype: float64\n",
      "Distribution for Question 3 (Physical Exhaustion):\n",
      "Sometimes    31\n",
      "Regularly    18\n",
      "Often         5\n",
      "Never         2\n",
      "Always        1\n",
      "Name: Ans for Q2-Q4, dtype: int64\n",
      "\n",
      "As percentages:\n",
      "Sometimes    54.385965\n",
      "Regularly    31.578947\n",
      "Often         8.771930\n",
      "Never         3.508772\n",
      "Always        1.754386\n",
      "Name: Ans for Q2-Q4, dtype: float64\n",
      "\n",
      "Distribution for Question 4 (Mental Exhaustion):\n",
      "Sometimes    23\n",
      "Regularly    15\n",
      "Often        13\n",
      "Never         4\n",
      "Always        2\n",
      "Name: Ans for Q2-Q4, dtype: int64\n",
      "\n",
      "As percentages:\n",
      "Sometimes    40.350877\n",
      "Regularly    26.315789\n",
      "Often        22.807018\n",
      "Never         7.017544\n",
      "Always        3.508772\n",
      "Name: Ans for Q2-Q4, dtype: float64\n"
     ]
    }
   ],
   "source": [
    "# For Question 2\n",
    "answer_distribution_q2 = fatigue_data_q2['Ans for Q2-Q4'].value_counts()\n",
    "\n",
    "# For Question 3: Physically, today how often did you feel exhausted?\n",
    "answer_distribution_q3 = fatigue_data_q3['Ans for Q2-Q4'].value_counts()\n",
    "\n",
    "# For Question 4: Mentally, today how often did you feel exhausted?\n",
    "answer_distribution_q4 = fatigue_data_q4['Ans for Q2-Q4'].value_counts()\n",
    "\n",
    "# If you want to see the distribution as percentages of the total responses:\n",
    "answer_distribution_q2_percentage = fatigue_data_q2['Ans for Q2-Q4'].value_counts(normalize=True) * 100\n",
    "answer_distribution_q3_percentage = fatigue_data_q3['Ans for Q2-Q4'].value_counts(normalize=True) * 100\n",
    "answer_distribution_q4_percentage = fatigue_data_q4['Ans for Q2-Q4'].value_counts(normalize=True) * 100\n",
    "\n",
    "# Print the distributions\n",
    "print(\"Distribution for Question 2:\")\n",
    "print(answer_distribution_q2)\n",
    "print(\"\\nAs percentages:\")\n",
    "print(answer_distribution_q2_percentage)\n",
    "\n",
    "print(\"Distribution for Question 3 (Physical Exhaustion):\")\n",
    "print(answer_distribution_q3)\n",
    "print(\"\\nAs percentages:\")\n",
    "print(answer_distribution_q3_percentage)\n",
    "\n",
    "print(\"\\nDistribution for Question 4 (Mental Exhaustion):\")\n",
    "print(answer_distribution_q4)\n",
    "print(\"\\nAs percentages:\")\n",
    "print(answer_distribution_q4_percentage)"
   ]
  }
 ],
 "metadata": {
  "kernelspec": {
   "display_name": "Python 3",
   "language": "python",
   "name": "python3"
  },
  "language_info": {
   "codemirror_mode": {
    "name": "ipython",
    "version": 3
   },
   "file_extension": ".py",
   "mimetype": "text/x-python",
   "name": "python",
   "nbconvert_exporter": "python",
   "pygments_lexer": "ipython3",
   "version": "3.10.8"
  }
 },
 "nbformat": 4,
 "nbformat_minor": 2
}
