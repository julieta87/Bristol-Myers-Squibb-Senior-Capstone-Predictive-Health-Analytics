{
 "cells": [
  {
   "cell_type": "code",
   "execution_count": 14,
   "metadata": {},
   "outputs": [],
   "source": [
    "# Import the necessary packages\n",
    "import pandas as pd\n",
    "import matplotlib.pyplot as plt\n",
    "import seaborn as sns\n",
    "from datetime import datetime\n",
    "from sklearn.ensemble import RandomForestRegressor\n",
    "from sklearn.model_selection import train_test_split\n",
    "from sklearn.impute import SimpleImputer\n",
    "from sklearn.preprocessing import StandardScaler\n",
    "from sklearn.pipeline import Pipeline\n",
    "from sklearn.tree import DecisionTreeClassifier\n",
    "from sklearn.metrics import accuracy_score\n",
    "from sklearn.experimental import enable_hist_gradient_boosting  # noqa\n",
    "from sklearn.ensemble import HistGradientBoostingClassifier"
   ]
  },
  {
   "cell_type": "code",
   "execution_count": 15,
   "metadata": {},
   "outputs": [],
   "source": [
    "# Read the datasets\n",
    "subject_data = pd.read_csv(\"subjectID_28.csv\")\n",
    "fatigue_data = pd.read_csv('fatiguePROs_subject_28.csv')"
   ]
  },
  {
   "cell_type": "code",
   "execution_count": 16,
   "metadata": {},
   "outputs": [],
   "source": [
    "# Function to parse the timestamps of the wearable dataset in the proper date format\n",
    "def parse_wearable_timestamp(ts):\n",
    "    return datetime.strptime(ts, '%d.%m.%y %H:%M')"
   ]
  },
  {
   "cell_type": "code",
   "execution_count": 17,
   "metadata": {},
   "outputs": [],
   "source": [
    "# Function to parse the timestamps of the fatigue dataset in the proper date format\n",
    "def parse_fatigue_timestamp_adjusted(ts):\n",
    "    try:\n",
    "        return datetime.strptime(ts, '%d.%m.%y %H:%M')\n",
    "    except ValueError:\n",
    "        return datetime.strptime(ts, '%d.%m.%y')"
   ]
  },
  {
   "cell_type": "code",
   "execution_count": 18,
   "metadata": {},
   "outputs": [],
   "source": [
    "# Apply the parsing to the datasets\n",
    "subject_data['Timestamp'] = subject_data['Timestamp'].apply(parse_wearable_timestamp)\n",
    "fatigue_data['Days'] = fatigue_data['Days'].apply(parse_fatigue_timestamp_adjusted)"
   ]
  },
  {
   "cell_type": "code",
   "execution_count": 19,
   "metadata": {},
   "outputs": [],
   "source": [
    "# Create a date column for merging\n",
    "subject_data['Date'] = subject_data['Timestamp'].dt.date\n",
    "fatigue_data['Date'] = fatigue_data['Days'].dt.date"
   ]
  },
  {
   "cell_type": "code",
   "execution_count": 20,
   "metadata": {},
   "outputs": [],
   "source": [
    "# Summarize each column by the mean\n",
    "wearable_daily_summary = subject_data.groupby('Date').agg({\n",
    "    'ActivityCounts': 'median',\n",
    "    'Barometer': 'median',\n",
    "    'BloodPerfusion': 'median',\n",
    "    'BloodPulseWave': 'median',\n",
    "    'EnergyExpenditure': 'median',\n",
    "    'GalvanicSkinResponse': 'median',\n",
    "    'HR': 'median',\n",
    "    'HRV': 'median',\n",
    "    'RESP': 'median',\n",
    "    'Steps': 'sum',  # Assuming sum is more appropriate for steps\n",
    "    'SkinTemperature': 'median'\n",
    "}).reset_index()"
   ]
  },
  {
   "cell_type": "code",
   "execution_count": 21,
   "metadata": {},
   "outputs": [],
   "source": [
    "# Group the data by the mean for Question 1\n",
    "# Describe fatigue on a scale of 1 to 10, where 1 means you don’t feel tired at all and 10 means the worst tiredness you can imagine\n",
    "fatigue_daily_summary = fatigue_data.groupby('Date').agg({\n",
    "    'Ans for Q1': 'mean'\n",
    "}).reset_index()"
   ]
  },
  {
   "cell_type": "code",
   "execution_count": 22,
   "metadata": {},
   "outputs": [],
   "source": [
    "# Merge the summaries on Date\n",
    "daily_combined_summary = pd.merge(wearable_daily_summary, fatigue_daily_summary, on='Date', how='outer')"
   ]
  },
  {
   "cell_type": "code",
   "execution_count": 23,
   "metadata": {},
   "outputs": [],
   "source": [
    "# Prepare the data for modeling\n",
    "data_for_modeling = daily_combined_summary.dropna(subset=['Ans for Q1'])\n",
    "X = data_for_modeling.drop(['Date', 'Ans for Q1'], axis=1)\n",
    "y = data_for_modeling['Ans for Q1']"
   ]
  },
  {
   "cell_type": "code",
   "execution_count": 24,
   "metadata": {},
   "outputs": [],
   "source": [
    "# Split the data into training and testing sets\n",
    "X_train, X_test, y_train, y_test = train_test_split(X, y, test_size=0.2, random_state=42)"
   ]
  },
  {
   "cell_type": "code",
   "execution_count": 25,
   "metadata": {},
   "outputs": [],
   "source": [
    "# Create a pipeline for imputation, scaling, and modeling\n",
    "pipeline = Pipeline([\n",
    "    ('imputer', SimpleImputer(strategy='mean')),\n",
    "    ('scaler', StandardScaler()),\n",
    "    ('model', RandomForestRegressor(n_estimators=100, random_state=42))\n",
    "])"
   ]
  },
  {
   "cell_type": "code",
   "execution_count": 26,
   "metadata": {},
   "outputs": [
    {
     "data": {
      "text/html": [
       "<style>#sk-container-id-1 {color: black;background-color: white;}#sk-container-id-1 pre{padding: 0;}#sk-container-id-1 div.sk-toggleable {background-color: white;}#sk-container-id-1 label.sk-toggleable__label {cursor: pointer;display: block;width: 100%;margin-bottom: 0;padding: 0.3em;box-sizing: border-box;text-align: center;}#sk-container-id-1 label.sk-toggleable__label-arrow:before {content: \"▸\";float: left;margin-right: 0.25em;color: #696969;}#sk-container-id-1 label.sk-toggleable__label-arrow:hover:before {color: black;}#sk-container-id-1 div.sk-estimator:hover label.sk-toggleable__label-arrow:before {color: black;}#sk-container-id-1 div.sk-toggleable__content {max-height: 0;max-width: 0;overflow: hidden;text-align: left;background-color: #f0f8ff;}#sk-container-id-1 div.sk-toggleable__content pre {margin: 0.2em;color: black;border-radius: 0.25em;background-color: #f0f8ff;}#sk-container-id-1 input.sk-toggleable__control:checked~div.sk-toggleable__content {max-height: 200px;max-width: 100%;overflow: auto;}#sk-container-id-1 input.sk-toggleable__control:checked~label.sk-toggleable__label-arrow:before {content: \"▾\";}#sk-container-id-1 div.sk-estimator input.sk-toggleable__control:checked~label.sk-toggleable__label {background-color: #d4ebff;}#sk-container-id-1 div.sk-label input.sk-toggleable__control:checked~label.sk-toggleable__label {background-color: #d4ebff;}#sk-container-id-1 input.sk-hidden--visually {border: 0;clip: rect(1px 1px 1px 1px);clip: rect(1px, 1px, 1px, 1px);height: 1px;margin: -1px;overflow: hidden;padding: 0;position: absolute;width: 1px;}#sk-container-id-1 div.sk-estimator {font-family: monospace;background-color: #f0f8ff;border: 1px dotted black;border-radius: 0.25em;box-sizing: border-box;margin-bottom: 0.5em;}#sk-container-id-1 div.sk-estimator:hover {background-color: #d4ebff;}#sk-container-id-1 div.sk-parallel-item::after {content: \"\";width: 100%;border-bottom: 1px solid gray;flex-grow: 1;}#sk-container-id-1 div.sk-label:hover label.sk-toggleable__label {background-color: #d4ebff;}#sk-container-id-1 div.sk-serial::before {content: \"\";position: absolute;border-left: 1px solid gray;box-sizing: border-box;top: 0;bottom: 0;left: 50%;z-index: 0;}#sk-container-id-1 div.sk-serial {display: flex;flex-direction: column;align-items: center;background-color: white;padding-right: 0.2em;padding-left: 0.2em;position: relative;}#sk-container-id-1 div.sk-item {position: relative;z-index: 1;}#sk-container-id-1 div.sk-parallel {display: flex;align-items: stretch;justify-content: center;background-color: white;position: relative;}#sk-container-id-1 div.sk-item::before, #sk-container-id-1 div.sk-parallel-item::before {content: \"\";position: absolute;border-left: 1px solid gray;box-sizing: border-box;top: 0;bottom: 0;left: 50%;z-index: -1;}#sk-container-id-1 div.sk-parallel-item {display: flex;flex-direction: column;z-index: 1;position: relative;background-color: white;}#sk-container-id-1 div.sk-parallel-item:first-child::after {align-self: flex-end;width: 50%;}#sk-container-id-1 div.sk-parallel-item:last-child::after {align-self: flex-start;width: 50%;}#sk-container-id-1 div.sk-parallel-item:only-child::after {width: 0;}#sk-container-id-1 div.sk-dashed-wrapped {border: 1px dashed gray;margin: 0 0.4em 0.5em 0.4em;box-sizing: border-box;padding-bottom: 0.4em;background-color: white;}#sk-container-id-1 div.sk-label label {font-family: monospace;font-weight: bold;display: inline-block;line-height: 1.2em;}#sk-container-id-1 div.sk-label-container {text-align: center;}#sk-container-id-1 div.sk-container {/* jupyter's `normalize.less` sets `[hidden] { display: none; }` but bootstrap.min.css set `[hidden] { display: none !important; }` so we also need the `!important` here to be able to override the default hidden behavior on the sphinx rendered scikit-learn.org. See: https://github.com/scikit-learn/scikit-learn/issues/21755 */display: inline-block !important;position: relative;}#sk-container-id-1 div.sk-text-repr-fallback {display: none;}</style><div id=\"sk-container-id-1\" class=\"sk-top-container\"><div class=\"sk-text-repr-fallback\"><pre>Pipeline(steps=[(&#x27;imputer&#x27;, SimpleImputer()), (&#x27;scaler&#x27;, StandardScaler()),\n",
       "                (&#x27;model&#x27;, RandomForestRegressor(random_state=42))])</pre><b>In a Jupyter environment, please rerun this cell to show the HTML representation or trust the notebook. <br />On GitHub, the HTML representation is unable to render, please try loading this page with nbviewer.org.</b></div><div class=\"sk-container\" hidden><div class=\"sk-item sk-dashed-wrapped\"><div class=\"sk-label-container\"><div class=\"sk-label sk-toggleable\"><input class=\"sk-toggleable__control sk-hidden--visually\" id=\"sk-estimator-id-1\" type=\"checkbox\" ><label for=\"sk-estimator-id-1\" class=\"sk-toggleable__label sk-toggleable__label-arrow\">Pipeline</label><div class=\"sk-toggleable__content\"><pre>Pipeline(steps=[(&#x27;imputer&#x27;, SimpleImputer()), (&#x27;scaler&#x27;, StandardScaler()),\n",
       "                (&#x27;model&#x27;, RandomForestRegressor(random_state=42))])</pre></div></div></div><div class=\"sk-serial\"><div class=\"sk-item\"><div class=\"sk-estimator sk-toggleable\"><input class=\"sk-toggleable__control sk-hidden--visually\" id=\"sk-estimator-id-2\" type=\"checkbox\" ><label for=\"sk-estimator-id-2\" class=\"sk-toggleable__label sk-toggleable__label-arrow\">SimpleImputer</label><div class=\"sk-toggleable__content\"><pre>SimpleImputer()</pre></div></div></div><div class=\"sk-item\"><div class=\"sk-estimator sk-toggleable\"><input class=\"sk-toggleable__control sk-hidden--visually\" id=\"sk-estimator-id-3\" type=\"checkbox\" ><label for=\"sk-estimator-id-3\" class=\"sk-toggleable__label sk-toggleable__label-arrow\">StandardScaler</label><div class=\"sk-toggleable__content\"><pre>StandardScaler()</pre></div></div></div><div class=\"sk-item\"><div class=\"sk-estimator sk-toggleable\"><input class=\"sk-toggleable__control sk-hidden--visually\" id=\"sk-estimator-id-4\" type=\"checkbox\" ><label for=\"sk-estimator-id-4\" class=\"sk-toggleable__label sk-toggleable__label-arrow\">RandomForestRegressor</label><div class=\"sk-toggleable__content\"><pre>RandomForestRegressor(random_state=42)</pre></div></div></div></div></div></div></div>"
      ],
      "text/plain": [
       "Pipeline(steps=[('imputer', SimpleImputer()), ('scaler', StandardScaler()),\n",
       "                ('model', RandomForestRegressor(random_state=42))])"
      ]
     },
     "execution_count": 26,
     "metadata": {},
     "output_type": "execute_result"
    }
   ],
   "source": [
    "# Fit the model\n",
    "pipeline.fit(X_train, y_train)"
   ]
  },
  {
   "cell_type": "code",
   "execution_count": 27,
   "metadata": {},
   "outputs": [],
   "source": [
    "# Extract and print feature importance\n",
    "feature_importances = pipeline.named_steps['model'].feature_importances_\n",
    "feature_importance_dict = dict(zip(X.columns, feature_importances))\n",
    "sorted_feature_importance = sorted(feature_importance_dict.items(), key=lambda item: item[1], reverse=True)"
   ]
  },
  {
   "cell_type": "code",
   "execution_count": 28,
   "metadata": {},
   "outputs": [
    {
     "name": "stdout",
     "output_type": "stream",
     "text": [
      "BloodPulseWave: 0.21\n",
      "RESP: 0.12\n",
      "GalvanicSkinResponse: 0.12\n",
      "BloodPerfusion: 0.10\n",
      "HRV: 0.08\n",
      "SkinTemperature: 0.08\n",
      "ActivityCounts: 0.08\n",
      "Barometer: 0.08\n",
      "HR: 0.07\n",
      "Steps: 0.05\n",
      "EnergyExpenditure: 0.01\n"
     ]
    }
   ],
   "source": [
    "# Displaying the sorted feature importance\n",
    "for feature, importance in sorted_feature_importance:\n",
    "    print(f\"{feature}: {importance:.2f}\")"
   ]
  },
  {
   "cell_type": "code",
   "execution_count": 29,
   "metadata": {},
   "outputs": [],
   "source": [
    "features = ['HR', 'Steps', 'BloodPulseWave', 'HRV', 'EnergyExpenditure']"
   ]
  },
  {
   "cell_type": "code",
   "execution_count": 30,
   "metadata": {},
   "outputs": [
    {
     "data": {
      "text/html": [
       "<div>\n",
       "<style scoped>\n",
       "    .dataframe tbody tr th:only-of-type {\n",
       "        vertical-align: middle;\n",
       "    }\n",
       "\n",
       "    .dataframe tbody tr th {\n",
       "        vertical-align: top;\n",
       "    }\n",
       "\n",
       "    .dataframe thead th {\n",
       "        text-align: right;\n",
       "    }\n",
       "</style>\n",
       "<table border=\"1\" class=\"dataframe\">\n",
       "  <thead>\n",
       "    <tr style=\"text-align: right;\">\n",
       "      <th></th>\n",
       "      <th>SubjectID</th>\n",
       "      <th>Days</th>\n",
       "      <th>Timezone</th>\n",
       "      <th>Question</th>\n",
       "      <th>Ans for Q2-Q4</th>\n",
       "      <th>Date</th>\n",
       "    </tr>\n",
       "  </thead>\n",
       "  <tbody>\n",
       "    <tr>\n",
       "      <th>1</th>\n",
       "      <td>28</td>\n",
       "      <td>2018-08-09 22:26:00</td>\n",
       "      <td>CEST</td>\n",
       "      <td>Are you feeling better, worse or the same as y...</td>\n",
       "      <td>Same</td>\n",
       "      <td>2018-08-09</td>\n",
       "    </tr>\n",
       "    <tr>\n",
       "      <th>2</th>\n",
       "      <td>28</td>\n",
       "      <td>2018-08-09 22:26:00</td>\n",
       "      <td>CEST</td>\n",
       "      <td>Physically, today how often did you feel exhau...</td>\n",
       "      <td>Never</td>\n",
       "      <td>2018-08-09</td>\n",
       "    </tr>\n",
       "    <tr>\n",
       "      <th>3</th>\n",
       "      <td>28</td>\n",
       "      <td>2018-08-09 22:26:00</td>\n",
       "      <td>CEST</td>\n",
       "      <td>Mentally, today how often did you feel exhausted?</td>\n",
       "      <td>Never</td>\n",
       "      <td>2018-08-09</td>\n",
       "    </tr>\n",
       "    <tr>\n",
       "      <th>5</th>\n",
       "      <td>28</td>\n",
       "      <td>2018-08-10 23:13:00</td>\n",
       "      <td>CEST</td>\n",
       "      <td>Are you feeling better, worse or the same as y...</td>\n",
       "      <td>Same</td>\n",
       "      <td>2018-08-10</td>\n",
       "    </tr>\n",
       "    <tr>\n",
       "      <th>6</th>\n",
       "      <td>28</td>\n",
       "      <td>2018-08-10 23:13:00</td>\n",
       "      <td>CEST</td>\n",
       "      <td>Physically, today how often did you feel exhau...</td>\n",
       "      <td>Never</td>\n",
       "      <td>2018-08-10</td>\n",
       "    </tr>\n",
       "    <tr>\n",
       "      <th>7</th>\n",
       "      <td>28</td>\n",
       "      <td>2018-08-10 23:13:00</td>\n",
       "      <td>CEST</td>\n",
       "      <td>Mentally, today how often did you feel exhausted?</td>\n",
       "      <td>Sometimes</td>\n",
       "      <td>2018-08-10</td>\n",
       "    </tr>\n",
       "    <tr>\n",
       "      <th>9</th>\n",
       "      <td>28</td>\n",
       "      <td>2018-08-13 21:39:00</td>\n",
       "      <td>CEST</td>\n",
       "      <td>Are you feeling better, worse or the same as y...</td>\n",
       "      <td>Same</td>\n",
       "      <td>2018-08-13</td>\n",
       "    </tr>\n",
       "    <tr>\n",
       "      <th>10</th>\n",
       "      <td>28</td>\n",
       "      <td>2018-08-13 21:39:00</td>\n",
       "      <td>CEST</td>\n",
       "      <td>Physically, today how often did you feel exhau...</td>\n",
       "      <td>Sometimes</td>\n",
       "      <td>2018-08-13</td>\n",
       "    </tr>\n",
       "    <tr>\n",
       "      <th>11</th>\n",
       "      <td>28</td>\n",
       "      <td>2018-08-13 21:39:00</td>\n",
       "      <td>CEST</td>\n",
       "      <td>Mentally, today how often did you feel exhausted?</td>\n",
       "      <td>Regularly</td>\n",
       "      <td>2018-08-13</td>\n",
       "    </tr>\n",
       "    <tr>\n",
       "      <th>13</th>\n",
       "      <td>28</td>\n",
       "      <td>2018-08-14 23:27:00</td>\n",
       "      <td>CEST</td>\n",
       "      <td>Are you feeling better, worse or the same as y...</td>\n",
       "      <td>Worse</td>\n",
       "      <td>2018-08-14</td>\n",
       "    </tr>\n",
       "    <tr>\n",
       "      <th>14</th>\n",
       "      <td>28</td>\n",
       "      <td>2018-08-14 23:27:00</td>\n",
       "      <td>CEST</td>\n",
       "      <td>Physically, today how often did you feel exhau...</td>\n",
       "      <td>Never</td>\n",
       "      <td>2018-08-14</td>\n",
       "    </tr>\n",
       "    <tr>\n",
       "      <th>15</th>\n",
       "      <td>28</td>\n",
       "      <td>2018-08-14 23:27:00</td>\n",
       "      <td>CEST</td>\n",
       "      <td>Mentally, today how often did you feel exhausted?</td>\n",
       "      <td>Sometimes</td>\n",
       "      <td>2018-08-14</td>\n",
       "    </tr>\n",
       "    <tr>\n",
       "      <th>17</th>\n",
       "      <td>28</td>\n",
       "      <td>2018-08-16 00:51:00</td>\n",
       "      <td>CEST</td>\n",
       "      <td>Are you feeling better, worse or the same as y...</td>\n",
       "      <td>Better</td>\n",
       "      <td>2018-08-16</td>\n",
       "    </tr>\n",
       "    <tr>\n",
       "      <th>18</th>\n",
       "      <td>28</td>\n",
       "      <td>2018-08-16 00:51:00</td>\n",
       "      <td>CEST</td>\n",
       "      <td>Physically, today how often did you feel exhau...</td>\n",
       "      <td>Sometimes</td>\n",
       "      <td>2018-08-16</td>\n",
       "    </tr>\n",
       "    <tr>\n",
       "      <th>19</th>\n",
       "      <td>28</td>\n",
       "      <td>2018-08-16 00:51:00</td>\n",
       "      <td>CEST</td>\n",
       "      <td>Mentally, today how often did you feel exhausted?</td>\n",
       "      <td>Sometimes</td>\n",
       "      <td>2018-08-16</td>\n",
       "    </tr>\n",
       "    <tr>\n",
       "      <th>21</th>\n",
       "      <td>28</td>\n",
       "      <td>2018-08-16 00:52:00</td>\n",
       "      <td>CEST</td>\n",
       "      <td>Are you feeling better, worse or the same as y...</td>\n",
       "      <td>Better</td>\n",
       "      <td>2018-08-16</td>\n",
       "    </tr>\n",
       "    <tr>\n",
       "      <th>22</th>\n",
       "      <td>28</td>\n",
       "      <td>2018-08-16 00:52:00</td>\n",
       "      <td>CEST</td>\n",
       "      <td>Physically, today how often did you feel exhau...</td>\n",
       "      <td>Never</td>\n",
       "      <td>2018-08-16</td>\n",
       "    </tr>\n",
       "    <tr>\n",
       "      <th>23</th>\n",
       "      <td>28</td>\n",
       "      <td>2018-08-16 00:52:00</td>\n",
       "      <td>CEST</td>\n",
       "      <td>Mentally, today how often did you feel exhausted?</td>\n",
       "      <td>Sometimes</td>\n",
       "      <td>2018-08-16</td>\n",
       "    </tr>\n",
       "  </tbody>\n",
       "</table>\n",
       "</div>"
      ],
      "text/plain": [
       "    SubjectID                Days Timezone  \\\n",
       "1          28 2018-08-09 22:26:00     CEST   \n",
       "2          28 2018-08-09 22:26:00     CEST   \n",
       "3          28 2018-08-09 22:26:00     CEST   \n",
       "5          28 2018-08-10 23:13:00     CEST   \n",
       "6          28 2018-08-10 23:13:00     CEST   \n",
       "7          28 2018-08-10 23:13:00     CEST   \n",
       "9          28 2018-08-13 21:39:00     CEST   \n",
       "10         28 2018-08-13 21:39:00     CEST   \n",
       "11         28 2018-08-13 21:39:00     CEST   \n",
       "13         28 2018-08-14 23:27:00     CEST   \n",
       "14         28 2018-08-14 23:27:00     CEST   \n",
       "15         28 2018-08-14 23:27:00     CEST   \n",
       "17         28 2018-08-16 00:51:00     CEST   \n",
       "18         28 2018-08-16 00:51:00     CEST   \n",
       "19         28 2018-08-16 00:51:00     CEST   \n",
       "21         28 2018-08-16 00:52:00     CEST   \n",
       "22         28 2018-08-16 00:52:00     CEST   \n",
       "23         28 2018-08-16 00:52:00     CEST   \n",
       "\n",
       "                                             Question Ans for Q2-Q4  \\\n",
       "1   Are you feeling better, worse or the same as y...          Same   \n",
       "2   Physically, today how often did you feel exhau...         Never   \n",
       "3   Mentally, today how often did you feel exhausted?         Never   \n",
       "5   Are you feeling better, worse or the same as y...          Same   \n",
       "6   Physically, today how often did you feel exhau...         Never   \n",
       "7   Mentally, today how often did you feel exhausted?     Sometimes   \n",
       "9   Are you feeling better, worse or the same as y...          Same   \n",
       "10  Physically, today how often did you feel exhau...     Sometimes   \n",
       "11  Mentally, today how often did you feel exhausted?     Regularly   \n",
       "13  Are you feeling better, worse or the same as y...         Worse   \n",
       "14  Physically, today how often did you feel exhau...         Never   \n",
       "15  Mentally, today how often did you feel exhausted?     Sometimes   \n",
       "17  Are you feeling better, worse or the same as y...        Better   \n",
       "18  Physically, today how often did you feel exhau...     Sometimes   \n",
       "19  Mentally, today how often did you feel exhausted?     Sometimes   \n",
       "21  Are you feeling better, worse or the same as y...        Better   \n",
       "22  Physically, today how often did you feel exhau...         Never   \n",
       "23  Mentally, today how often did you feel exhausted?     Sometimes   \n",
       "\n",
       "          Date  \n",
       "1   2018-08-09  \n",
       "2   2018-08-09  \n",
       "3   2018-08-09  \n",
       "5   2018-08-10  \n",
       "6   2018-08-10  \n",
       "7   2018-08-10  \n",
       "9   2018-08-13  \n",
       "10  2018-08-13  \n",
       "11  2018-08-13  \n",
       "13  2018-08-14  \n",
       "14  2018-08-14  \n",
       "15  2018-08-14  \n",
       "17  2018-08-16  \n",
       "18  2018-08-16  \n",
       "19  2018-08-16  \n",
       "21  2018-08-16  \n",
       "22  2018-08-16  \n",
       "23  2018-08-16  "
      ]
     },
     "execution_count": 30,
     "metadata": {},
     "output_type": "execute_result"
    }
   ],
   "source": [
    "phrase_to_remove = \"Describe fatigue on a scale of 1 to 10, where 1 means you don’t feel tired at all and 10 means the worst tiredness you can imagine\"\n",
    "filtered_fatigue_data = fatigue_data.loc[~fatigue_data['Question'].str.contains(phrase_to_remove, case=False, na=False)]\n",
    "new_fatigue_data = filtered_fatigue_data.drop(\"Ans for Q1\", axis=1)\n",
    "new_fatigue_data"
   ]
  },
  {
   "cell_type": "code",
   "execution_count": 31,
   "metadata": {},
   "outputs": [],
   "source": [
    "finished_fatigue_data = new_fatigue_data.set_index(\"Question\", append=True).swaplevel().loc[new_fatigue_data[\"Question\"].unique()].reset_index(level=0)"
   ]
  },
  {
   "cell_type": "code",
   "execution_count": 32,
   "metadata": {},
   "outputs": [],
   "source": [
    "fatigue_data_q2 = finished_fatigue_data[finished_fatigue_data['Question'] == \"Are you feeling better, worse or the same as yesterday?\"]\n",
    "fatigue_data_q3 = finished_fatigue_data[finished_fatigue_data['Question'] == \"Physically, today how often did you feel exhausted?\"]\n",
    "fatigue_data_q4 = finished_fatigue_data[finished_fatigue_data['Question'] == \"Mentally, today how often did you feel exhausted?\"]\n",
    "\n",
    "fatigue_data_q2 = fatigue_data_q2.reset_index(drop=True)\n",
    "fatigue_data_q3 = fatigue_data_q3.reset_index(drop=True)\n",
    "fatigue_data_q4 = fatigue_data_q4.reset_index(drop=True)"
   ]
  },
  {
   "cell_type": "code",
   "execution_count": 33,
   "metadata": {},
   "outputs": [],
   "source": [
    "# Mappings for encoding\n",
    "encoding_q2 = {'Worse': 0, 'Same': 1, 'Better': 2}\n",
    "encoding_q3 = {'Never': 0, 'Sometimes': 1, 'Regularly': 2, 'Often': 3, 'Always': 4}\n",
    "encoding_q4 = {'Never': 0, 'Sometimes': 1, 'Regularly': 2, 'Often': 3, 'Always': 4}"
   ]
  },
  {
   "cell_type": "code",
   "execution_count": 34,
   "metadata": {},
   "outputs": [],
   "source": [
    "# Apply each encodings to the mapping\n",
    "fatigue_data_q2['Ans_Encoded'] = fatigue_data_q2['Ans for Q2-Q4'].map(encoding_q2)\n",
    "fatigue_data_q3['Ans_Encoded'] = fatigue_data_q3['Ans for Q2-Q4'].map(encoding_q3)\n",
    "fatigue_data_q4['Ans_Encoded'] = fatigue_data_q4['Ans for Q2-Q4'].map(encoding_q4)\n",
    "\n",
    "fatigue_data_q2 = fatigue_data_q2.drop(\"Days\", axis=1)\n",
    "fatigue_data_q3 = fatigue_data_q3.drop(\"Days\", axis=1)\n",
    "fatigue_data_q4 = fatigue_data_q4.drop(\"Days\", axis=1)"
   ]
  },
  {
   "cell_type": "code",
   "execution_count": 35,
   "metadata": {},
   "outputs": [],
   "source": [
    "# Data cleaning to prepare the data for the model\n",
    "fatigue_data_q2_merged = pd.merge(fatigue_data_q2, wearable_daily_summary, on='Date', how='outer')\n",
    "fatigue_data_q3_merged = pd.merge(fatigue_data_q3, wearable_daily_summary, on='Date', how='outer')\n",
    "fatigue_data_q4_merged = pd.merge(fatigue_data_q4, wearable_daily_summary, on='Date', how='outer')\n",
    "\n",
    "fatigue_data_q2_merged = fatigue_data_q2_merged.dropna(subset=['Ans_Encoded'])\n",
    "fatigue_data_q3_merged = fatigue_data_q3_merged.dropna(subset=['Ans_Encoded'])\n",
    "fatigue_data_q4_merged = fatigue_data_q4_merged.dropna(subset=['Ans_Encoded'])"
   ]
  },
  {
   "cell_type": "code",
   "execution_count": 36,
   "metadata": {},
   "outputs": [],
   "source": [
    "# The 'Ans_Encoded' column is the target variable, and the rest are the features\n",
    "X_q2 = fatigue_data_q2_merged[['HR', 'Steps', 'BloodPulseWave', 'HRV', 'EnergyExpenditure']]\n",
    "y_q2 = fatigue_data_q2_merged['Ans_Encoded']\n",
    "\n",
    "X_q3 = fatigue_data_q3_merged[['HR', 'Steps', 'BloodPulseWave', 'HRV', 'EnergyExpenditure']]\n",
    "y_q3 = fatigue_data_q3_merged['Ans_Encoded']\n",
    "\n",
    "X_q4 = fatigue_data_q4_merged[['HR', 'Steps', 'BloodPulseWave', 'HRV', 'EnergyExpenditure']]\n",
    "y_q4 = fatigue_data_q4_merged['Ans_Encoded']"
   ]
  },
  {
   "cell_type": "code",
   "execution_count": 37,
   "metadata": {},
   "outputs": [
    {
     "name": "stdout",
     "output_type": "stream",
     "text": [
      "Accuracy: 0.0\n"
     ]
    }
   ],
   "source": [
    "X_train_q2, X_test_q2, y_train_q2, y_test_q2 = train_test_split(X_q2, y_q2, test_size=0.2, random_state=42)\n",
    "\n",
    "# Initialize and train the classifier\n",
    "model = HistGradientBoostingClassifier()\n",
    "\n",
    "# Fit the model\n",
    "model.fit(X_train_q2, y_train_q2)\n",
    "\n",
    "# Make predictions\n",
    "y_pred_q2 = model.predict(X_test_q2)\n",
    "\n",
    "# Evaluate the model\n",
    "accuracy_q2 = accuracy_score(y_test_q2, y_pred_q2)\n",
    "print(f\"Accuracy: {accuracy_q2}\")"
   ]
  },
  {
   "cell_type": "code",
   "execution_count": 38,
   "metadata": {},
   "outputs": [
    {
     "name": "stdout",
     "output_type": "stream",
     "text": [
      "Accuracy: 1.0\n"
     ]
    }
   ],
   "source": [
    "X_train_q3, X_test_q3, y_train_q3, y_test_q3 = train_test_split(X_q3, y_q3, test_size=0.2, random_state=42)\n",
    "\n",
    "# Initialize and train the classifier\n",
    "model = HistGradientBoostingClassifier()\n",
    "\n",
    "# Fit the model\n",
    "model.fit(X_train_q3, y_train_q3)\n",
    "\n",
    "# Make predictions\n",
    "y_pred_q3 = model.predict(X_test_q3)\n",
    "\n",
    "# Evaluate the model\n",
    "accuracy_q3 = accuracy_score(y_test_q3, y_pred_q3)\n",
    "print(f\"Accuracy: {accuracy_q3}\")"
   ]
  },
  {
   "cell_type": "code",
   "execution_count": 39,
   "metadata": {},
   "outputs": [
    {
     "name": "stdout",
     "output_type": "stream",
     "text": [
      "Accuracy: 0.5\n"
     ]
    }
   ],
   "source": [
    "X_train_q4, X_test_q4, y_train_q4, y_test_q4 = train_test_split(X_q4, y_q4, test_size=0.2, random_state=42)\n",
    "\n",
    "# Initialize and train the classifier\n",
    "model = HistGradientBoostingClassifier()\n",
    "\n",
    "# Fit the model\n",
    "model.fit(X_train_q4, y_train_q4)\n",
    "\n",
    "# Make predictions\n",
    "y_pred_q4 = model.predict(X_test_q4)\n",
    "\n",
    "# Evaluate the model\n",
    "accuracy_q4 = accuracy_score(y_test_q4, y_pred_q4)\n",
    "print(f\"Accuracy: {accuracy_q4}\")"
   ]
  },
  {
   "cell_type": "code",
   "execution_count": 40,
   "metadata": {},
   "outputs": [
    {
     "name": "stdout",
     "output_type": "stream",
     "text": [
      "Accuracy with data from Question 3 and Question 4: 0.6666666666666666\n"
     ]
    }
   ],
   "source": [
    "full_fatigue_data = fatigue_data_q2_merged.merge(fatigue_data_q3_merged, on='Date', how='inner', suffixes=('_q2', '_q3'))\n",
    "full_fatigue_data = full_fatigue_data.merge(fatigue_data_q4_merged, on='Date', how='inner', suffixes=('', '_q4'))\n",
    "\n",
    "X_full = full_fatigue_data[['HR', 'Steps', 'BloodPulseWave', 'HRV', 'EnergyExpenditure', 'Ans_Encoded_q3', 'Ans_Encoded']]\n",
    "# 'Ans_Encoded' from Q4 might have to be renamed to avoid collision if not done in the merge step.\n",
    "\n",
    "y_full = full_fatigue_data['Ans_Encoded_q2']  # Target variable from Q2\n",
    "\n",
    "X_train_full, X_test_full, y_train_full, y_test_full = train_test_split(X_full, y_full, test_size=0.2, random_state=42)\n",
    "\n",
    "model_full = HistGradientBoostingClassifier()\n",
    "\n",
    "# Fit the model\n",
    "model_full.fit(X_train_full, y_train_full)\n",
    "\n",
    "# Make predictions\n",
    "y_pred_full = model_full.predict(X_test_full)\n",
    "\n",
    "# Evaluate the model\n",
    "accuracy_full = accuracy_score(y_test_full, y_pred_full)\n",
    "print(f\"Accuracy with data from Question 3 and Question 4: {accuracy_full}\")"
   ]
  },
  {
   "cell_type": "code",
   "execution_count": 41,
   "metadata": {},
   "outputs": [
    {
     "name": "stdout",
     "output_type": "stream",
     "text": [
      "Distribution for Question 2:\n",
      "Same      3\n",
      "Better    2\n",
      "Worse     1\n",
      "Name: Ans for Q2-Q4, dtype: int64\n",
      "\n",
      "As percentages:\n",
      "Same      50.000000\n",
      "Better    33.333333\n",
      "Worse     16.666667\n",
      "Name: Ans for Q2-Q4, dtype: float64\n",
      "Distribution for Question 3 (Physical Exhaustion):\n",
      "Never        4\n",
      "Sometimes    2\n",
      "Name: Ans for Q2-Q4, dtype: int64\n",
      "\n",
      "As percentages:\n",
      "Never        66.666667\n",
      "Sometimes    33.333333\n",
      "Name: Ans for Q2-Q4, dtype: float64\n",
      "\n",
      "Distribution for Question 4 (Mental Exhaustion):\n",
      "Sometimes    4\n",
      "Never        1\n",
      "Regularly    1\n",
      "Name: Ans for Q2-Q4, dtype: int64\n",
      "\n",
      "As percentages:\n",
      "Sometimes    66.666667\n",
      "Never        16.666667\n",
      "Regularly    16.666667\n",
      "Name: Ans for Q2-Q4, dtype: float64\n"
     ]
    }
   ],
   "source": [
    "# For Question 2\n",
    "answer_distribution_q2 = fatigue_data_q2['Ans for Q2-Q4'].value_counts()\n",
    "\n",
    "# For Question 3: Physically, today how often did you feel exhausted?\n",
    "answer_distribution_q3 = fatigue_data_q3['Ans for Q2-Q4'].value_counts()\n",
    "\n",
    "# For Question 4: Mentally, today how often did you feel exhausted?\n",
    "answer_distribution_q4 = fatigue_data_q4['Ans for Q2-Q4'].value_counts()\n",
    "\n",
    "# If you want to see the distribution as percentages of the total responses:\n",
    "answer_distribution_q2_percentage = fatigue_data_q2['Ans for Q2-Q4'].value_counts(normalize=True) * 100\n",
    "answer_distribution_q3_percentage = fatigue_data_q3['Ans for Q2-Q4'].value_counts(normalize=True) * 100\n",
    "answer_distribution_q4_percentage = fatigue_data_q4['Ans for Q2-Q4'].value_counts(normalize=True) * 100\n",
    "\n",
    "# Print the distributions\n",
    "print(\"Distribution for Question 2:\")\n",
    "print(answer_distribution_q2)\n",
    "print(\"\\nAs percentages:\")\n",
    "print(answer_distribution_q2_percentage)\n",
    "\n",
    "print(\"Distribution for Question 3 (Physical Exhaustion):\")\n",
    "print(answer_distribution_q3)\n",
    "print(\"\\nAs percentages:\")\n",
    "print(answer_distribution_q3_percentage)\n",
    "\n",
    "print(\"\\nDistribution for Question 4 (Mental Exhaustion):\")\n",
    "print(answer_distribution_q4)\n",
    "print(\"\\nAs percentages:\")\n",
    "print(answer_distribution_q4_percentage)"
   ]
  }
 ],
 "metadata": {
  "kernelspec": {
   "display_name": "Python 3",
   "language": "python",
   "name": "python3"
  },
  "language_info": {
   "codemirror_mode": {
    "name": "ipython",
    "version": 3
   },
   "file_extension": ".py",
   "mimetype": "text/x-python",
   "name": "python",
   "nbconvert_exporter": "python",
   "pygments_lexer": "ipython3",
   "version": "3.10.8"
  }
 },
 "nbformat": 4,
 "nbformat_minor": 2
}
